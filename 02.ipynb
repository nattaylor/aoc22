{
 "cells": [
  {
   "cell_type": "code",
   "execution_count": 110,
   "id": "64dd6a8f-1d21-4823-b621-6f03442a6009",
   "metadata": {},
   "outputs": [],
   "source": [
    "import lib\n",
    "p = lib.puzzle_input(2)"
   ]
  },
  {
   "cell_type": "code",
   "execution_count": 106,
   "id": "f6dcac36-351f-4045-b4b5-0d69b5801fda",
   "metadata": {},
   "outputs": [],
   "source": [
    "p = \"\"\"A Y\n",
    "B X\n",
    "C Z\n",
    "\"\"\""
   ]
  },
  {
   "cell_type": "code",
   "execution_count": 74,
   "id": "3592e463-054a-48d2-9974-7a4e0afe1ddd",
   "metadata": {},
   "outputs": [
    {
     "name": "stdout",
     "output_type": "stream",
     "text": [
      "12772\n"
     ]
    }
   ],
   "source": [
    "\n",
    "# Rock defeats Scissors, Scissors defeats Paper, and Paper defeats Rock.\n",
    "mapping = {\n",
    "    'A': 1, # Rock\n",
    "    'X': 1, # Rock\n",
    "    'B': 2, # Paper\n",
    "    'Y': 2, # Paper\n",
    "    'C': 3, # Scissors\n",
    "    'Z': 3, # Scissors\n",
    "}\n",
    "losses = (\n",
    "    (3,2),\n",
    "    (2,1),\n",
    "    (1,3),\n",
    ")\n",
    "wins = (\n",
    "    (2,3),\n",
    "    (1,2),\n",
    "    (3,1),\n",
    ")\n",
    "score = 0\n",
    "for a, b in [(mapping.get(x.split(\" \")[0]), mapping.get(x.split(\" \")[1])) for x in p[:-1].split(\"\\n\")]:\n",
    "    if (a,b) in wins:\n",
    "        score+=b+6\n",
    "    elif (a,b) in losses:\n",
    "        score+=b\n",
    "    else:\n",
    "        score+=b+3\n",
    "\n",
    "print(score)"
   ]
  },
  {
   "cell_type": "code",
   "execution_count": 111,
   "id": "d266b86a-ccd8-4f8d-b633-65b22c98bd6b",
   "metadata": {},
   "outputs": [
    {
     "name": "stdout",
     "output_type": "stream",
     "text": [
      "11618\n"
     ]
    }
   ],
   "source": [
    "\n",
    "# Rock defeats Scissors, Scissors defeats Paper, and Paper defeats Rock.\n",
    "mapping = {\n",
    "    'A': 1, # Rock\n",
    "    'X': 1, # Rock\n",
    "    'B': 2, # Paper\n",
    "    'Y': 2, # Paper\n",
    "    'C': 3, # Scissors\n",
    "    'Z': 3, # Scissors\n",
    "}\n",
    "\n",
    "score = 0\n",
    "for a, b in [(mapping.get(x.split(\" \")[0]), mapping.get(x.split(\" \")[1])) for x in p[:-1].split(\"\\n\")]:\n",
    "    if b == 1: # loss\n",
    "        # 1,3\n",
    "        # 2,1\n",
    "        # 3,2\n",
    "        score+=3 if a == 1 else a-1\n",
    "    elif b == 2: # draw\n",
    "        score+=a+3\n",
    "    else: # win \n",
    "        score+=6 + (1 if a == 3 else a+1)\n",
    "\n",
    "print(score)"
   ]
  }
 ],
 "metadata": {
  "kernelspec": {
   "display_name": "Python 3 (ipykernel)",
   "language": "python",
   "name": "python3"
  },
  "language_info": {
   "codemirror_mode": {
    "name": "ipython",
    "version": 3
   },
   "file_extension": ".py",
   "mimetype": "text/x-python",
   "name": "python",
   "nbconvert_exporter": "python",
   "pygments_lexer": "ipython3",
   "version": "3.11.0"
  }
 },
 "nbformat": 4,
 "nbformat_minor": 5
}
