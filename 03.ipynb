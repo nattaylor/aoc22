{
 "cells": [
  {
   "cell_type": "code",
   "execution_count": 41,
   "id": "d44a9aed-fc0c-41af-affe-750df2329669",
   "metadata": {},
   "outputs": [],
   "source": [
    "import lib\n",
    "p = lib.puzzle_input(3)"
   ]
  },
  {
   "cell_type": "code",
   "execution_count": 8,
   "id": "aaa0da4a-ea64-48cf-8ad1-1f86eb64e7cb",
   "metadata": {},
   "outputs": [],
   "source": [
    "import string\n",
    "l = dict(zip(string.ascii_lowercase, range(1,27)))\n",
    "u = dict(zip(string.ascii_uppercase, range(27,53)))"
   ]
  },
  {
   "cell_type": "code",
   "execution_count": 33,
   "id": "9b9e28f2-cb00-4849-b4dc-51c00e01d37b",
   "metadata": {},
   "outputs": [],
   "source": [
    "# p = \"\"\"vJrwpWtwJgWrhcsFMMfFFhFp\n",
    "# jqHRNqRjqzjGDLGLrsFMfFZSrLrFZsSL\n",
    "# PmmdzqPrVvPwwTWBwg\n",
    "# wMqvLMZHhHMvwLHjbvcjnnSBnvTQFn\n",
    "# ttgJtRGJQctTZtZT\n",
    "# CrZsJsPPZsGzwwsLwLmpwMDw\n",
    "# \"\"\""
   ]
  },
  {
   "cell_type": "code",
   "execution_count": 29,
   "id": "bd41f2f8-6564-48b8-b1cd-0a395468b4bd",
   "metadata": {},
   "outputs": [
    {
     "data": {
      "text/plain": [
       "7742"
      ]
     },
     "execution_count": 29,
     "metadata": {},
     "output_type": "execute_result"
    }
   ],
   "source": [
    "sum([\n",
    "    (l|u).get(list(set(x[:len(x)//2]) &  set(x[len(x)//2:]))[0])\n",
    "    for x in p[:-1].split(\"\\n\")\n",
    "])"
   ]
  },
  {
   "cell_type": "code",
   "execution_count": 44,
   "id": "2021c54f-151f-4a33-99fd-4cd957e0da74",
   "metadata": {},
   "outputs": [
    {
     "data": {
      "text/plain": [
       "2276"
      ]
     },
     "execution_count": 44,
     "metadata": {},
     "output_type": "execute_result"
    }
   ],
   "source": [
    "groups = [p[:-1].split(\"\\n\")[i * 3:(i + 1) * 3] for i in range((len(p[:-1].split(\"\\n\")) + 3 - 1) // 3 )]\n",
    "total = 0\n",
    "for g in groups:\n",
    "    a, b, c = [set(x) for x in g]\n",
    "    total += (u|l).get(list(a & b & c)[0])\n",
    "total    "
   ]
  }
 ],
 "metadata": {
  "kernelspec": {
   "display_name": "Python 3 (ipykernel)",
   "language": "python",
   "name": "python3"
  },
  "language_info": {
   "codemirror_mode": {
    "name": "ipython",
    "version": 3
   },
   "file_extension": ".py",
   "mimetype": "text/x-python",
   "name": "python",
   "nbconvert_exporter": "python",
   "pygments_lexer": "ipython3",
   "version": "3.11.0"
  }
 },
 "nbformat": 4,
 "nbformat_minor": 5
}
