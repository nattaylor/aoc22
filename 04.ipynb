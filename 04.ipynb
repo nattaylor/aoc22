{
 "cells": [
  {
   "cell_type": "code",
   "execution_count": 19,
   "id": "af063328-79a1-44ca-b3fc-db14784116f1",
   "metadata": {},
   "outputs": [],
   "source": [
    "import lib\n",
    "p = lib.puzzle_input(4)"
   ]
  },
  {
   "cell_type": "code",
   "execution_count": 15,
   "id": "dd974db2-f94b-40d4-851a-a8263aadc49a",
   "metadata": {},
   "outputs": [],
   "source": [
    "t = \"\"\"2-4,6-8\n",
    "2-3,4-5\n",
    "5-7,7-9\n",
    "2-8,3-7\n",
    "6-6,4-6\n",
    "2-6,4-8\n",
    "\"\"\""
   ]
  },
  {
   "cell_type": "code",
   "execution_count": 21,
   "id": "18fc9919-f14f-4424-b8d0-d1283004db68",
   "metadata": {},
   "outputs": [],
   "source": [
    "def parse(x):\n",
    "    l, r = x.split(\",\")\n",
    "    l = l.split(\"-\")\n",
    "    r = r.split(\"-\")\n",
    "    l = set(list(range(int(l[0]),int(l[1])+1)))\n",
    "    r = set(list(range(int(r[0]),int(r[1])+1)))\n",
    "    if l.issubset(r) or r.issubset(l):\n",
    "        return 1\n",
    "    return 0\n",
    "    "
   ]
  },
  {
   "cell_type": "code",
   "execution_count": 22,
   "id": "0cccbe85-d842-41f7-b072-1329e5bb1748",
   "metadata": {},
   "outputs": [
    {
     "data": {
      "text/plain": [
       "305"
      ]
     },
     "execution_count": 22,
     "metadata": {},
     "output_type": "execute_result"
    }
   ],
   "source": [
    "sum([parse(x) for x in p[:-1].split(\"\\n\")])"
   ]
  },
  {
   "cell_type": "code",
   "execution_count": 24,
   "id": "3a70ff55-806b-4308-b632-c22cd14cfcdc",
   "metadata": {},
   "outputs": [],
   "source": [
    "def parse2(x):\n",
    "    l, r = x.split(\",\")\n",
    "    l = l.split(\"-\")\n",
    "    r = r.split(\"-\")\n",
    "    l = set(list(range(int(l[0]),int(l[1])+1)))\n",
    "    r = set(list(range(int(r[0]),int(r[1])+1)))\n",
    "    if len(l & r)>0:\n",
    "        return 1\n",
    "    return 0"
   ]
  },
  {
   "cell_type": "code",
   "execution_count": 27,
   "id": "fce074f1-a361-40d0-9aa2-54ff7fad9a48",
   "metadata": {},
   "outputs": [
    {
     "data": {
      "text/plain": [
       "811"
      ]
     },
     "execution_count": 27,
     "metadata": {},
     "output_type": "execute_result"
    }
   ],
   "source": [
    "sum([parse2(x) for x in p[:-1].split(\"\\n\")])"
   ]
  }
 ],
 "metadata": {
  "kernelspec": {
   "display_name": "Python 3 (ipykernel)",
   "language": "python",
   "name": "python3"
  },
  "language_info": {
   "codemirror_mode": {
    "name": "ipython",
    "version": 3
   },
   "file_extension": ".py",
   "mimetype": "text/x-python",
   "name": "python",
   "nbconvert_exporter": "python",
   "pygments_lexer": "ipython3",
   "version": "3.11.0"
  }
 },
 "nbformat": 4,
 "nbformat_minor": 5
}
