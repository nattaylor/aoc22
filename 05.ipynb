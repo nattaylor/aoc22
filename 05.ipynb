{
 "cells": [
  {
   "cell_type": "code",
   "execution_count": 37,
   "id": "29207266-a51f-4361-9a8c-f03f9bd62f6c",
   "metadata": {},
   "outputs": [],
   "source": [
    "import lib\n",
    "p = lib.puzzle_input(5)"
   ]
  },
  {
   "cell_type": "code",
   "execution_count": 1,
   "id": "9f3e365a-5f7b-45b1-9c4c-1fc0ea72d66a",
   "metadata": {},
   "outputs": [],
   "source": [
    "t = \"\"\"    [D]    \n",
    "[N] [C]    \n",
    "[Z] [M] [P]\n",
    " 1   2   3 \n",
    "\n",
    "move 1 from 2 to 1\n",
    "move 3 from 1 to 3\n",
    "move 2 from 2 to 1\n",
    "move 1 from 1 to 2\n",
    "\"\"\""
   ]
  },
  {
   "cell_type": "code",
   "execution_count": null,
   "id": "29a40c6b-2f99-48e4-878d-7c1b77c595b0",
   "metadata": {},
   "outputs": [],
   "source": [
    "def parse(x):\n",
    "    crates,steps = x.split(\"\\n\\n\")\n",
    "    steps = [(int(s.split(\" \")[1]),int(s.split(\" \")[3]),int(s.split(\" \")[5]),) for s in steps[:-1].split(\"\\n\")]\n",
    "    stacks = list(map(list, zip(*[list(x) for x in crates.split(\"\\n\")])))\n",
    "    stacks = [list(reversed(x)) for x in stacks]\n",
    "    stacks = [stacks[i] for i in range(1, len(stacks)+1, 4)]\n",
    "    \n",
    "    return {int(x[0]): [y for y in x[1:] if y != ' '] for x in stacks}, steps"
   ]
  },
  {
   "cell_type": "code",
   "execution_count": 38,
   "id": "109a89a4-2e35-488c-908d-e751a23f376e",
   "metadata": {},
   "outputs": [
    {
     "data": {
      "text/plain": [
       "'HBTMTBSDC'"
      ]
     },
     "execution_count": 38,
     "metadata": {},
     "output_type": "execute_result"
    }
   ],
   "source": [
    "stacks, steps = parse(p)\n",
    "for n, a, b in steps:\n",
    "    for i in range(n):\n",
    "        stacks[b].append(stacks[a].pop())\n",
    "\n",
    "\"\".join([s.pop() for s in stacks.values()])"
   ]
  },
  {
   "cell_type": "code",
   "execution_count": 78,
   "id": "78494cdc-9ee3-409b-b10b-075b3775ed17",
   "metadata": {},
   "outputs": [
    {
     "data": {
      "text/plain": [
       "'PQTJRSHWS'"
      ]
     },
     "execution_count": 78,
     "metadata": {},
     "output_type": "execute_result"
    }
   ],
   "source": [
    "stacks, steps = parse(p)\n",
    "for n, a, b in steps:\n",
    "    n = min(n, len(stacks[a]))\n",
    "    move = stacks[a][-n:]\n",
    "    stacks[a]=stacks[a][:len(stacks[a])-n]\n",
    "    stacks[b]+=(move)\n",
    "\n",
    "\"\".join([s.pop() for s in stacks.values()])"
   ]
  }
 ],
 "metadata": {
  "kernelspec": {
   "display_name": "Python 3 (ipykernel)",
   "language": "python",
   "name": "python3"
  },
  "language_info": {
   "codemirror_mode": {
    "name": "ipython",
    "version": 3
   },
   "file_extension": ".py",
   "mimetype": "text/x-python",
   "name": "python",
   "nbconvert_exporter": "python",
   "pygments_lexer": "ipython3",
   "version": "3.11.0"
  }
 },
 "nbformat": 4,
 "nbformat_minor": 5
}
