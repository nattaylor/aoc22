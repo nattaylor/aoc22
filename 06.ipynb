{
 "cells": [
  {
   "cell_type": "code",
   "execution_count": 13,
   "id": "6ffebf6d-234d-430e-810f-c47a0c50fb0a",
   "metadata": {},
   "outputs": [],
   "source": [
    "import lib\n",
    "p = lib.puzzle_input(6)"
   ]
  },
  {
   "cell_type": "code",
   "execution_count": 10,
   "id": "d2c449ce-d23d-46a4-ac69-b73ac2248d1a",
   "metadata": {},
   "outputs": [],
   "source": [
    "t = \"nppdvjthqldpwncqszvftbrmjlhg\""
   ]
  },
  {
   "cell_type": "code",
   "execution_count": 14,
   "id": "c8994840-465b-4303-94c5-bc3ea1cb1b01",
   "metadata": {},
   "outputs": [
    {
     "name": "stdout",
     "output_type": "stream",
     "text": [
      "1100 mbnz\n"
     ]
    }
   ],
   "source": [
    "for i in range(len(p)-4):\n",
    "    if len(set(p[i:i+4]))==4:\n",
    "        print(i+4, p[i:i+4])\n",
    "        break"
   ]
  },
  {
   "cell_type": "code",
   "execution_count": 16,
   "id": "2173621b-e5fe-49ce-988f-43c35d0d25d5",
   "metadata": {},
   "outputs": [
    {
     "name": "stdout",
     "output_type": "stream",
     "text": [
      "2421 cmwlnbzqjsgftr\n"
     ]
    }
   ],
   "source": [
    "for i in range(len(p)-14):\n",
    "    if len(set(p[i:i+14]))==14:\n",
    "        print(i+14, p[i:i+14])\n",
    "        break"
   ]
  }
 ],
 "metadata": {
  "kernelspec": {
   "display_name": "Python 3 (ipykernel)",
   "language": "python",
   "name": "python3"
  },
  "language_info": {
   "codemirror_mode": {
    "name": "ipython",
    "version": 3
   },
   "file_extension": ".py",
   "mimetype": "text/x-python",
   "name": "python",
   "nbconvert_exporter": "python",
   "pygments_lexer": "ipython3",
   "version": "3.11.0"
  }
 },
 "nbformat": 4,
 "nbformat_minor": 5
}
